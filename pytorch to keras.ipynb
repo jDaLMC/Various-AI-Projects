{
 "cells": [
  {
   "cell_type": "code",
   "execution_count": 23,
   "metadata": {},
   "outputs": [],
   "source": [
    "import gym\n",
    "from collections import namedtuple\n",
    "import numpy as np\n",
    "import tensorflow as tf\n",
    "from tensorflow.keras.optimizers import Adam"
   ]
  },
  {
   "cell_type": "code",
   "execution_count": 24,
   "metadata": {},
   "outputs": [],
   "source": [
    "HIDDEN_SIZE = 128\n",
    "BATCH_SIZE = 16\n",
    "PERCENTILE = 70"
   ]
  },
  {
   "cell_type": "code",
   "execution_count": 25,
   "metadata": {},
   "outputs": [],
   "source": [
    "class Net(tf.keras.Model):\n",
    "    def __init__(self, obs_size, hidden_size, n_actions):\n",
    "        super(Net, self).__init__()\n",
    "        self.net = tf.keras.Sequential([\n",
    "            tf.keras.layers.Dense(hidden_size, input_shape = (obs_size,), activation='relu'),\n",
    "            tf.keras.layers.Dense(n_actions)\n",
    "        ])\n",
    "\n",
    "    def call(self, x):\n",
    "        x = tf.convert_to_tensor(x, dtype=tf.float32)\n",
    "        return self.net(x)"
   ]
  },
  {
   "cell_type": "code",
   "execution_count": 26,
   "metadata": {},
   "outputs": [],
   "source": [
    "Episode = namedtuple('Episode', field_names=['reward', 'steps'])\n",
    "EpisodeStep = namedtuple('EpisodeStep', field_names=['observation', 'action'])"
   ]
  },
  {
   "cell_type": "code",
   "execution_count": 27,
   "metadata": {},
   "outputs": [],
   "source": [
    "def iterate_batches(env, net, batch_size):\n",
    "    batch = []\n",
    "    episode_reward = 0.0\n",
    "    episode_steps = []\n",
    "    obs = env.reset()\n",
    "    \n",
    "    while True:\n",
    "        obs_v = np.array(obs).reshape(1,-1)\n",
    "        act_probs_v = tf.nn.softmax(net(obs_v)).numpy()\n",
    "        action = np.random.choice(len(act_probs_v[0]), p=act_probs_v[0])\n",
    "        next_obs, reward, terminated, truncated = env.step(action)\n",
    "        episode_reward += reward\n",
    "        step = EpisodeStep(observation=obs, action=action)\n",
    "        episode_steps.append(step)\n",
    "        if terminated or truncated:\n",
    "            e = Episode(reward=episode_reward, steps=episode_steps)\n",
    "            batch.append(e)\n",
    "            episode_reward = 0.0\n",
    "            episode_steps = []\n",
    "            next_obs = env.reset()\n",
    "            if len(batch) == batch_size:\n",
    "                yield batch\n",
    "                batch = []\n",
    "        obs = next_obs"
   ]
  },
  {
   "cell_type": "code",
   "execution_count": 28,
   "metadata": {},
   "outputs": [],
   "source": [
    "def filter_batch(batch, percentile):\n",
    "    rewards = [s.reward for s in batch]\n",
    "    reward_bound = np.percentile(rewards, percentile)\n",
    "    reward_mean = float(np.mean(rewards))\n",
    "\n",
    "    train_obs = []\n",
    "    train_act = []\n",
    "    \n",
    "    for reward, steps in batch:\n",
    "        if reward < reward_bound:\n",
    "            continue\n",
    "        train_obs.extend(map(lambda step: step.observation, steps))\n",
    "        train_act.extend(map(lambda step: step.action, steps))\n",
    "\n",
    "    train_obs_v = tf.convert_to_tensor(train_obs, dtype=tf.float32)\n",
    "    train_act_v = tf.convert_to_tensor(train_act, dtype=tf.float32) #assuming that actions are float\n",
    "    return train_obs_v, train_act_v, reward_bound, reward_mean\n"
   ]
  },
  {
   "cell_type": "code",
   "execution_count": 29,
   "metadata": {},
   "outputs": [
    {
     "name": "stdout",
     "output_type": "stream",
     "text": [
      "WARNING:tensorflow:5 out of the last 129 calls to <function _BaseOptimizer._update_step_xla at 0x7f3c3842f7f0> triggered tf.function retracing. Tracing is expensive and the excessive number of tracings could be due to (1) creating @tf.function repeatedly in a loop, (2) passing tensors with different shapes, (3) passing Python objects instead of tensors. For (1), please define your @tf.function outside of the loop. For (2), @tf.function has reduce_retracing=True option that can avoid unnecessary retracing. For (3), please refer to https://www.tensorflow.org/guide/function#controlling_retracing and https://www.tensorflow.org/api_docs/python/tf/function for  more details.\n",
      "0: reward_mean=24.0, rw_bound=30.5\n",
      "1: reward_mean=31.4, rw_bound=37.5\n",
      "2: reward_mean=31.9, rw_bound=32.5\n",
      "3: reward_mean=39.5, rw_bound=42.5\n",
      "4: reward_mean=43.8, rw_bound=50.5\n",
      "5: reward_mean=35.9, rw_bound=39.5\n",
      "6: reward_mean=45.8, rw_bound=52.5\n",
      "7: reward_mean=68.1, rw_bound=80.0\n",
      "8: reward_mean=53.5, rw_bound=58.0\n",
      "9: reward_mean=57.9, rw_bound=75.0\n",
      "10: reward_mean=58.6, rw_bound=68.0\n",
      "11: reward_mean=76.6, rw_bound=69.5\n",
      "12: reward_mean=66.5, rw_bound=73.5\n",
      "13: reward_mean=70.2, rw_bound=93.0\n",
      "14: reward_mean=71.5, rw_bound=75.0\n",
      "15: reward_mean=77.6, rw_bound=81.5\n",
      "16: reward_mean=78.0, rw_bound=80.5\n",
      "17: reward_mean=88.1, rw_bound=84.5\n",
      "18: reward_mean=93.5, rw_bound=108.0\n",
      "19: reward_mean=106.1, rw_bound=121.0\n",
      "20: reward_mean=94.2, rw_bound=96.0\n",
      "21: reward_mean=130.9, rw_bound=140.0\n",
      "22: reward_mean=117.8, rw_bound=128.0\n",
      "23: reward_mean=91.0, rw_bound=100.5\n",
      "24: reward_mean=97.4, rw_bound=98.0\n",
      "25: reward_mean=109.1, rw_bound=127.0\n",
      "26: reward_mean=131.7, rw_bound=125.5\n",
      "27: reward_mean=119.6, rw_bound=137.0\n",
      "28: reward_mean=210.9, rw_bound=248.0\n",
      "Solved!\n"
     ]
    }
   ],
   "source": [
    "if __name__ == \"__main__\":\n",
    "    env = gym.make(\"CartPole-v1\")\n",
    "    obs_size = env.observation_space.shape[0]\n",
    "    n_actions = env.action_space.n\n",
    "\n",
    "    # create a keras model using the Net class\n",
    "    net = Net(obs_size, HIDDEN_SIZE, n_actions)\n",
    "    optimizer = Adam(learning_rate=0.01)\n",
    "    #net.compile(optimizer=optimizer, loss='sparse_categorical_crossentropy')\n",
    "    \n",
    "    for iter_no, batch in enumerate(iterate_batches(env, net, BATCH_SIZE)):\n",
    "        obs_v, acts_v, reward_b, reward_m = filter_batch(batch, PERCENTILE)\n",
    "        with tf.GradientTape() as tape:\n",
    "            action_scores_v = net(obs_v, training=True)\n",
    "            loss_v = tf.reduce_mean(\n",
    "                tf.keras.losses.sparse_categorical_crossentropy(acts_v, action_scores_v, from_logits=True)\n",
    "            )    \n",
    "        gradients = tape.gradient(loss_v, net.trainable_variables)\n",
    "        optimizer.apply_gradients(zip(gradients, net.trainable_variables))\n",
    "        \n",
    "        # train the model\n",
    "        # net.train_on_batch(obs_v, acts_v)\n",
    "\n",
    "        print(\"%d: reward_mean=%.1f, rw_bound=%.1f\" % (\n",
    "            iter_no, reward_m, reward_b))\n",
    "\n",
    "        if reward_m > 199:\n",
    "            print(\"Solved!\")\n",
    "            break"
   ]
  }
 ],
 "metadata": {
  "kernelspec": {
   "display_name": "Python 3",
   "language": "python",
   "name": "python3"
  },
  "language_info": {
   "codemirror_mode": {
    "name": "ipython",
    "version": 3
   },
   "file_extension": ".py",
   "mimetype": "text/x-python",
   "name": "python",
   "nbconvert_exporter": "python",
   "pygments_lexer": "ipython3",
   "version": "3.10.12"
  }
 },
 "nbformat": 4,
 "nbformat_minor": 2
}
